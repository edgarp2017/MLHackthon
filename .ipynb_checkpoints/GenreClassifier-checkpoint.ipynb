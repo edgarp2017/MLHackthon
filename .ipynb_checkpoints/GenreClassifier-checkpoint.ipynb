{
 "cells": [
  {
   "cell_type": "code",
   "execution_count": 1,
   "metadata": {},
   "outputs": [],
   "source": [
    "from __future__ import absolute_import, division, print_function, unicode_literals\n",
    "\n",
    "\n",
    "import tensorflow as tf\n",
    "\n",
    "import pandas as pd"
   ]
  },
  {
   "cell_type": "code",
   "execution_count": 2,
   "metadata": {},
   "outputs": [],
   "source": [
    "COLUMN_NAMES = ['LoveW', 'HorrorW', 'Unclassified','Genres']\n",
    "GENRES = ['Romance', 'Horror', 'Others']"
   ]
  },
  {
   "cell_type": "code",
   "execution_count": 3,
   "metadata": {},
   "outputs": [],
   "source": [
    "#File needs to be loaded here\n",
    "training_file_name = 'book_training_data.csv'# file name needs to change\n",
    "testing_file_name = 'book_testing_data.csv' #Test data needs to be compiled and added\n",
    "#train_data = pandas.read_csv(training_file_name, names=names)\n",
    "#test_data = pandas.read_csv(testing_file_name, name=name)\n",
    "\n",
    "train = pd.read_csv(training_file_name, names=COLUMN_NAMES, header=0)\n",
    "test = pd.read_csv(testing_file_name, names=COLUMN_NAMES, header=0)"
   ]
  },
  {
   "cell_type": "code",
   "execution_count": 4,
   "metadata": {},
   "outputs": [
    {
     "data": {
      "text/html": [
       "<div>\n",
       "<style scoped>\n",
       "    .dataframe tbody tr th:only-of-type {\n",
       "        vertical-align: middle;\n",
       "    }\n",
       "\n",
       "    .dataframe tbody tr th {\n",
       "        vertical-align: top;\n",
       "    }\n",
       "\n",
       "    .dataframe thead th {\n",
       "        text-align: right;\n",
       "    }\n",
       "</style>\n",
       "<table border=\"1\" class=\"dataframe\">\n",
       "  <thead>\n",
       "    <tr style=\"text-align: right;\">\n",
       "      <th></th>\n",
       "      <th>LoveW</th>\n",
       "      <th>HorrorW</th>\n",
       "      <th>Unclassified</th>\n",
       "      <th>Genres</th>\n",
       "    </tr>\n",
       "  </thead>\n",
       "  <tbody>\n",
       "    <tr>\n",
       "      <th>0</th>\n",
       "      <td>458</td>\n",
       "      <td>45</td>\n",
       "      <td>57656</td>\n",
       "      <td>0</td>\n",
       "    </tr>\n",
       "    <tr>\n",
       "      <th>1</th>\n",
       "      <td>46</td>\n",
       "      <td>679</td>\n",
       "      <td>56657</td>\n",
       "      <td>1</td>\n",
       "    </tr>\n",
       "    <tr>\n",
       "      <th>2</th>\n",
       "      <td>678</td>\n",
       "      <td>76</td>\n",
       "      <td>56675</td>\n",
       "      <td>0</td>\n",
       "    </tr>\n",
       "    <tr>\n",
       "      <th>3</th>\n",
       "      <td>567</td>\n",
       "      <td>46</td>\n",
       "      <td>96000</td>\n",
       "      <td>0</td>\n",
       "    </tr>\n",
       "    <tr>\n",
       "      <th>4</th>\n",
       "      <td>105</td>\n",
       "      <td>98</td>\n",
       "      <td>89809</td>\n",
       "      <td>2</td>\n",
       "    </tr>\n",
       "  </tbody>\n",
       "</table>\n",
       "</div>"
      ],
      "text/plain": [
       "   LoveW  HorrorW  Unclassified  Genres\n",
       "0    458       45         57656       0\n",
       "1     46      679         56657       1\n",
       "2    678       76         56675       0\n",
       "3    567       46         96000       0\n",
       "4    105       98         89809       2"
      ]
     },
     "execution_count": 4,
     "metadata": {},
     "output_type": "execute_result"
    }
   ],
   "source": [
    "train.head() # Display our data"
   ]
  },
  {
   "cell_type": "code",
   "execution_count": 5,
   "metadata": {},
   "outputs": [
    {
     "data": {
      "text/html": [
       "<div>\n",
       "<style scoped>\n",
       "    .dataframe tbody tr th:only-of-type {\n",
       "        vertical-align: middle;\n",
       "    }\n",
       "\n",
       "    .dataframe tbody tr th {\n",
       "        vertical-align: top;\n",
       "    }\n",
       "\n",
       "    .dataframe thead th {\n",
       "        text-align: right;\n",
       "    }\n",
       "</style>\n",
       "<table border=\"1\" class=\"dataframe\">\n",
       "  <thead>\n",
       "    <tr style=\"text-align: right;\">\n",
       "      <th></th>\n",
       "      <th>LoveW</th>\n",
       "      <th>HorrorW</th>\n",
       "      <th>Unclassified</th>\n",
       "    </tr>\n",
       "  </thead>\n",
       "  <tbody>\n",
       "    <tr>\n",
       "      <th>0</th>\n",
       "      <td>458</td>\n",
       "      <td>45</td>\n",
       "      <td>57656</td>\n",
       "    </tr>\n",
       "    <tr>\n",
       "      <th>1</th>\n",
       "      <td>46</td>\n",
       "      <td>679</td>\n",
       "      <td>56657</td>\n",
       "    </tr>\n",
       "    <tr>\n",
       "      <th>2</th>\n",
       "      <td>678</td>\n",
       "      <td>76</td>\n",
       "      <td>56675</td>\n",
       "    </tr>\n",
       "    <tr>\n",
       "      <th>3</th>\n",
       "      <td>567</td>\n",
       "      <td>46</td>\n",
       "      <td>96000</td>\n",
       "    </tr>\n",
       "    <tr>\n",
       "      <th>4</th>\n",
       "      <td>105</td>\n",
       "      <td>98</td>\n",
       "      <td>89809</td>\n",
       "    </tr>\n",
       "  </tbody>\n",
       "</table>\n",
       "</div>"
      ],
      "text/plain": [
       "   LoveW  HorrorW  Unclassified\n",
       "0    458       45         57656\n",
       "1     46      679         56657\n",
       "2    678       76         56675\n",
       "3    567       46         96000\n",
       "4    105       98         89809"
      ]
     },
     "execution_count": 5,
     "metadata": {},
     "output_type": "execute_result"
    }
   ],
   "source": [
    "train_y = train.pop('Genres')\n",
    "test_y = test.pop('Genres')\n",
    "train.head() # Genres column is now gone"
   ]
  },
  {
   "cell_type": "code",
   "execution_count": 6,
   "metadata": {},
   "outputs": [
    {
     "data": {
      "text/plain": [
       "(14, 3)"
      ]
     },
     "execution_count": 6,
     "metadata": {},
     "output_type": "execute_result"
    }
   ],
   "source": [
    "train.shape # Display entries and features"
   ]
  },
  {
   "cell_type": "code",
   "execution_count": 7,
   "metadata": {},
   "outputs": [],
   "source": [
    "#input function\n",
    "def input_fn(features, labels, training=True, batch_size=256):\n",
    "\n",
    "    dataset = tf.data.Dataset.from_tensor_slices((dict(features), labels))\n",
    "\n",
    "    \n",
    "    if training:\n",
    "        dataset = dataset.shuffle(1000).repeat()\n",
    "    \n",
    "    return dataset.batch(batch_size)"
   ]
  },
  {
   "cell_type": "code",
   "execution_count": 8,
   "metadata": {},
   "outputs": [
    {
     "name": "stdout",
     "output_type": "stream",
     "text": [
      "[NumericColumn(key='LoveW', shape=(1,), default_value=None, dtype=tf.float32, normalizer_fn=None), NumericColumn(key='HorrorW', shape=(1,), default_value=None, dtype=tf.float32, normalizer_fn=None), NumericColumn(key='Unclassified', shape=(1,), default_value=None, dtype=tf.float32, normalizer_fn=None)]\n"
     ]
    }
   ],
   "source": [
    "# Feature columns\n",
    "feature_columns = []\n",
    "for key in train.keys():\n",
    "    feature_columns.append(tf.feature_column.numeric_column(key=key))\n",
    "print(feature_columns)"
   ]
  },
  {
   "cell_type": "code",
   "execution_count": 9,
   "metadata": {},
   "outputs": [
    {
     "name": "stdout",
     "output_type": "stream",
     "text": [
      "INFO:tensorflow:Using default config.\n",
      "WARNING:tensorflow:Using temporary folder as model directory: /var/folders/5g/4q_xrqj95ll6j4y7r1wb7wfc0000gn/T/tmp381vlzjt\n",
      "INFO:tensorflow:Using config: {'_model_dir': '/var/folders/5g/4q_xrqj95ll6j4y7r1wb7wfc0000gn/T/tmp381vlzjt', '_tf_random_seed': None, '_save_summary_steps': 100, '_save_checkpoints_steps': None, '_save_checkpoints_secs': 600, '_session_config': allow_soft_placement: true\n",
      "graph_options {\n",
      "  rewrite_options {\n",
      "    meta_optimizer_iterations: ONE\n",
      "  }\n",
      "}\n",
      ", '_keep_checkpoint_max': 5, '_keep_checkpoint_every_n_hours': 10000, '_log_step_count_steps': 100, '_train_distribute': None, '_device_fn': None, '_protocol': None, '_eval_distribute': None, '_experimental_distribute': None, '_experimental_max_worker_delay_secs': None, '_session_creation_timeout_secs': 7200, '_service': None, '_cluster_spec': ClusterSpec({}), '_task_type': 'worker', '_task_id': 0, '_global_id_in_cluster': 0, '_master': '', '_evaluation_master': '', '_is_chief': True, '_num_ps_replicas': 0, '_num_worker_replicas': 1}\n"
     ]
    }
   ],
   "source": [
    "#Use classifier model to train\n",
    "classifier = tf.estimator.DNNClassifier(\n",
    "    feature_columns=feature_columns,\n",
    "    # Two hidden layers of 30 and 10 nodes respectively.\n",
    "    hidden_units=[30, 10],\n",
    "    # The model must choose between 3 classes.\n",
    "    n_classes=3)"
   ]
  },
  {
   "cell_type": "code",
   "execution_count": 10,
   "metadata": {},
   "outputs": [
    {
     "name": "stdout",
     "output_type": "stream",
     "text": [
      "WARNING:tensorflow:From /usr/local/lib/python3.7/site-packages/tensorflow_core/python/ops/resource_variable_ops.py:1635: calling BaseResourceVariable.__init__ (from tensorflow.python.ops.resource_variable_ops) with constraint is deprecated and will be removed in a future version.\n",
      "Instructions for updating:\n",
      "If using Keras pass *_constraint arguments to layers.\n",
      "WARNING:tensorflow:From /usr/local/lib/python3.7/site-packages/tensorflow_core/python/training/training_util.py:236: Variable.initialized_value (from tensorflow.python.ops.variables) is deprecated and will be removed in a future version.\n",
      "Instructions for updating:\n",
      "Use Variable.read_value. Variables in 2.X are initialized automatically both in eager and graph (inside tf.defun) contexts.\n",
      "INFO:tensorflow:Calling model_fn.\n",
      "WARNING:tensorflow:From /usr/local/lib/python3.7/site-packages/tensorflow_core/python/keras/optimizer_v2/adagrad.py:103: calling Constant.__init__ (from tensorflow.python.ops.init_ops) with dtype is deprecated and will be removed in a future version.\n",
      "Instructions for updating:\n",
      "Call initializer instance with the dtype argument instead of passing it to the constructor\n",
      "INFO:tensorflow:Done calling model_fn.\n",
      "INFO:tensorflow:Create CheckpointSaverHook.\n",
      "INFO:tensorflow:Graph was finalized.\n",
      "INFO:tensorflow:Running local_init_op.\n",
      "INFO:tensorflow:Done running local_init_op.\n",
      "INFO:tensorflow:Saving checkpoints for 0 into /var/folders/5g/4q_xrqj95ll6j4y7r1wb7wfc0000gn/T/tmp381vlzjt/model.ckpt.\n",
      "INFO:tensorflow:loss = 6422.45, step = 0\n",
      "INFO:tensorflow:global_step/sec: 182.853\n",
      "INFO:tensorflow:loss = 761.9714, step = 100 (0.548 sec)\n",
      "INFO:tensorflow:global_step/sec: 515.238\n",
      "INFO:tensorflow:loss = 4.372963, step = 200 (0.194 sec)\n",
      "INFO:tensorflow:global_step/sec: 522.196\n",
      "INFO:tensorflow:loss = 0.8065793, step = 300 (0.192 sec)\n",
      "INFO:tensorflow:global_step/sec: 506.879\n",
      "INFO:tensorflow:loss = 0.72135293, step = 400 (0.197 sec)\n",
      "INFO:tensorflow:global_step/sec: 466.229\n",
      "INFO:tensorflow:loss = 0.61959386, step = 500 (0.214 sec)\n",
      "INFO:tensorflow:global_step/sec: 521.899\n",
      "INFO:tensorflow:loss = 0.51199937, step = 600 (0.192 sec)\n",
      "INFO:tensorflow:global_step/sec: 499.473\n",
      "INFO:tensorflow:loss = 0.6398762, step = 700 (0.201 sec)\n",
      "INFO:tensorflow:global_step/sec: 292.834\n",
      "INFO:tensorflow:loss = 0.6652448, step = 800 (0.342 sec)\n",
      "INFO:tensorflow:global_step/sec: 319.643\n",
      "INFO:tensorflow:loss = 0.53230405, step = 900 (0.312 sec)\n",
      "INFO:tensorflow:global_step/sec: 263.267\n",
      "INFO:tensorflow:loss = 0.51016223, step = 1000 (0.383 sec)\n",
      "INFO:tensorflow:global_step/sec: 382.427\n",
      "INFO:tensorflow:loss = 0.41377693, step = 1100 (0.259 sec)\n",
      "INFO:tensorflow:global_step/sec: 437.948\n",
      "INFO:tensorflow:loss = 0.3648751, step = 1200 (0.228 sec)\n",
      "INFO:tensorflow:global_step/sec: 525.878\n",
      "INFO:tensorflow:loss = 0.29137182, step = 1300 (0.190 sec)\n",
      "INFO:tensorflow:global_step/sec: 521.88\n",
      "INFO:tensorflow:loss = 0.23846734, step = 1400 (0.192 sec)\n",
      "INFO:tensorflow:global_step/sec: 485.493\n",
      "INFO:tensorflow:loss = 0.25874758, step = 1500 (0.206 sec)\n",
      "INFO:tensorflow:global_step/sec: 485.6\n",
      "INFO:tensorflow:loss = 0.14311795, step = 1600 (0.206 sec)\n",
      "INFO:tensorflow:global_step/sec: 520.448\n",
      "INFO:tensorflow:loss = 0.11427154, step = 1700 (0.192 sec)\n",
      "INFO:tensorflow:global_step/sec: 515.18\n",
      "INFO:tensorflow:loss = 0.14097592, step = 1800 (0.194 sec)\n",
      "INFO:tensorflow:global_step/sec: 523.401\n",
      "INFO:tensorflow:loss = 0.10076164, step = 1900 (0.191 sec)\n",
      "INFO:tensorflow:global_step/sec: 522.117\n",
      "INFO:tensorflow:loss = 0.14683643, step = 2000 (0.192 sec)\n",
      "INFO:tensorflow:global_step/sec: 519.959\n",
      "INFO:tensorflow:loss = 0.10296224, step = 2100 (0.192 sec)\n",
      "INFO:tensorflow:global_step/sec: 247.832\n",
      "INFO:tensorflow:loss = 0.07944566, step = 2200 (0.403 sec)\n",
      "INFO:tensorflow:global_step/sec: 376.765\n",
      "INFO:tensorflow:loss = 0.06288627, step = 2300 (0.269 sec)\n",
      "INFO:tensorflow:global_step/sec: 457.536\n",
      "INFO:tensorflow:loss = 0.009582328, step = 2400 (0.216 sec)\n",
      "INFO:tensorflow:global_step/sec: 514.077\n",
      "INFO:tensorflow:loss = 0.009205212, step = 2500 (0.194 sec)\n",
      "INFO:tensorflow:global_step/sec: 515.496\n",
      "INFO:tensorflow:loss = 0.008644965, step = 2600 (0.194 sec)\n",
      "INFO:tensorflow:global_step/sec: 480.495\n",
      "INFO:tensorflow:loss = 0.008526599, step = 2700 (0.208 sec)\n",
      "INFO:tensorflow:global_step/sec: 493.189\n",
      "INFO:tensorflow:loss = 0.0077999784, step = 2800 (0.203 sec)\n",
      "INFO:tensorflow:global_step/sec: 525.072\n",
      "INFO:tensorflow:loss = 0.007535385, step = 2900 (0.191 sec)\n",
      "INFO:tensorflow:global_step/sec: 300.395\n",
      "INFO:tensorflow:loss = 0.007464167, step = 3000 (0.333 sec)\n",
      "INFO:tensorflow:global_step/sec: 374.976\n",
      "INFO:tensorflow:loss = 0.00726077, step = 3100 (0.266 sec)\n",
      "INFO:tensorflow:global_step/sec: 419.923\n",
      "INFO:tensorflow:loss = 0.0070344806, step = 3200 (0.238 sec)\n",
      "INFO:tensorflow:global_step/sec: 477.217\n",
      "INFO:tensorflow:loss = 0.0066204197, step = 3300 (0.210 sec)\n",
      "INFO:tensorflow:global_step/sec: 412.157\n",
      "INFO:tensorflow:loss = 0.0067817266, step = 3400 (0.242 sec)\n",
      "INFO:tensorflow:global_step/sec: 527.913\n",
      "INFO:tensorflow:loss = 0.0062398226, step = 3500 (0.189 sec)\n",
      "INFO:tensorflow:global_step/sec: 517.85\n",
      "INFO:tensorflow:loss = 0.0060712206, step = 3600 (0.193 sec)\n",
      "INFO:tensorflow:global_step/sec: 472.207\n",
      "INFO:tensorflow:loss = 0.0060487916, step = 3700 (0.212 sec)\n",
      "INFO:tensorflow:global_step/sec: 490.148\n",
      "INFO:tensorflow:loss = 0.005896818, step = 3800 (0.204 sec)\n",
      "INFO:tensorflow:global_step/sec: 501.665\n",
      "INFO:tensorflow:loss = 0.0057446337, step = 3900 (0.199 sec)\n",
      "INFO:tensorflow:global_step/sec: 512.863\n",
      "INFO:tensorflow:loss = 0.005626186, step = 4000 (0.195 sec)\n",
      "INFO:tensorflow:global_step/sec: 523.873\n",
      "INFO:tensorflow:loss = 0.0054819593, step = 4100 (0.191 sec)\n",
      "INFO:tensorflow:global_step/sec: 495.801\n",
      "INFO:tensorflow:loss = 0.0051955916, step = 4200 (0.202 sec)\n",
      "INFO:tensorflow:global_step/sec: 458.913\n",
      "INFO:tensorflow:loss = 0.0053547397, step = 4300 (0.218 sec)\n",
      "INFO:tensorflow:global_step/sec: 493.871\n",
      "INFO:tensorflow:loss = 0.004953631, step = 4400 (0.203 sec)\n",
      "INFO:tensorflow:global_step/sec: 389.666\n",
      "INFO:tensorflow:loss = 0.00511536, step = 4500 (0.258 sec)\n",
      "INFO:tensorflow:global_step/sec: 376.191\n",
      "INFO:tensorflow:loss = 0.004735161, step = 4600 (0.269 sec)\n",
      "INFO:tensorflow:global_step/sec: 322.819\n",
      "INFO:tensorflow:loss = 0.004755472, step = 4700 (0.305 sec)\n",
      "INFO:tensorflow:global_step/sec: 323.954\n",
      "INFO:tensorflow:loss = 0.0046808766, step = 4800 (0.309 sec)\n",
      "INFO:tensorflow:global_step/sec: 446.764\n",
      "INFO:tensorflow:loss = 0.0045829527, step = 4900 (0.224 sec)\n",
      "INFO:tensorflow:Saving checkpoints for 5000 into /var/folders/5g/4q_xrqj95ll6j4y7r1wb7wfc0000gn/T/tmp381vlzjt/model.ckpt.\n",
      "INFO:tensorflow:Loss for final step: 0.0044912538.\n"
     ]
    },
    {
     "data": {
      "text/plain": [
       "<tensorflow_estimator.python.estimator.canned.dnn.DNNClassifierV2 at 0x13584c050>"
      ]
     },
     "execution_count": 10,
     "metadata": {},
     "output_type": "execute_result"
    }
   ],
   "source": [
    "# We need to train our model and test from this point on.....\n",
    "classifier.train(\n",
    "    input_fn=lambda: input_fn(train, train_y, training=True),\n",
    "    steps=5000)"
   ]
  },
  {
   "cell_type": "code",
   "execution_count": 11,
   "metadata": {},
   "outputs": [
    {
     "name": "stdout",
     "output_type": "stream",
     "text": [
      "INFO:tensorflow:Calling model_fn.\n",
      "INFO:tensorflow:Done calling model_fn.\n",
      "INFO:tensorflow:Starting evaluation at 2020-03-06T14:48:10Z\n",
      "INFO:tensorflow:Graph was finalized.\n",
      "INFO:tensorflow:Restoring parameters from /var/folders/5g/4q_xrqj95ll6j4y7r1wb7wfc0000gn/T/tmp381vlzjt/model.ckpt-5000\n",
      "INFO:tensorflow:Running local_init_op.\n",
      "INFO:tensorflow:Done running local_init_op.\n",
      "INFO:tensorflow:Inference Time : 0.34658s\n",
      "INFO:tensorflow:Finished evaluation at 2020-03-06-14:48:10\n",
      "INFO:tensorflow:Saving dict for global step 5000: accuracy = 0.9166667, average_loss = 0.30740306, global_step = 5000, loss = 0.30740306\n",
      "INFO:tensorflow:Saving 'checkpoint_path' summary for global step 5000: /var/folders/5g/4q_xrqj95ll6j4y7r1wb7wfc0000gn/T/tmp381vlzjt/model.ckpt-5000\n",
      "\n",
      "Test set accuracy: 0.917\n",
      "\n"
     ]
    }
   ],
   "source": [
    "#Display our result\n",
    "eval_result = classifier.evaluate(\n",
    "    input_fn=lambda: input_fn(test, test_y, training=False))\n",
    "\n",
    "print('\\nTest set accuracy: {accuracy:0.3f}\\n'.format(**eval_result))"
   ]
  },
  {
   "cell_type": "code",
   "execution_count": null,
   "metadata": {},
   "outputs": [
    {
     "name": "stdout",
     "output_type": "stream",
     "text": [
      "Please type numeric values as prompted.\n"
     ]
    }
   ],
   "source": [
    "#make a prediction and display probability\n",
    "def input_fn(features, batch_size=256):\n",
    "    return tf.data.Dataset.from_tensor_slices(dict(features)).batch(batch_size)\n",
    "\n",
    "features = ['LoveW', 'HorrorW', 'Unclassified']\n",
    "predict = {}\n",
    "\n",
    "print(\"Please type numeric values as prompted.\")\n",
    "for feature in features:\n",
    "  valid = True\n",
    "  while valid: \n",
    "    val = input(feature + \": \")\n",
    "    if not val.isdigit(): valid = False\n",
    "\n",
    "  predict[feature] = [float(val)]\n",
    "\n",
    "predictions = classifier.predict(input_fn=lambda: input_fn(predict))\n",
    "print(predictions)\n",
    "for pred_dict in predictions:\n",
    "    print(pre_dict)\n",
    "    class_id = pred_dict['class_ids'][0]\n",
    "    probability = pred_dict['probabilities'][class_id]\n",
    "\n",
    "    print('Prediction is \"{}\" ({:.1f}%)'.format(\n",
    "        GENRES[class_id], 100 * probability))"
   ]
  },
  {
   "cell_type": "code",
   "execution_count": null,
   "metadata": {},
   "outputs": [],
   "source": []
  },
  {
   "cell_type": "code",
   "execution_count": null,
   "metadata": {},
   "outputs": [],
   "source": []
  }
 ],
 "metadata": {
  "kernelspec": {
   "display_name": "Python 3",
   "language": "python",
   "name": "python3"
  },
  "language_info": {
   "codemirror_mode": {
    "name": "ipython",
    "version": 3
   },
   "file_extension": ".py",
   "mimetype": "text/x-python",
   "name": "python",
   "nbconvert_exporter": "python",
   "pygments_lexer": "ipython3",
   "version": "3.7.6"
  }
 },
 "nbformat": 4,
 "nbformat_minor": 4
}
