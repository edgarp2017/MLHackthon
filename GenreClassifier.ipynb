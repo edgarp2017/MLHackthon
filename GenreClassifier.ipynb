{
 "cells": [
  {
   "cell_type": "code",
   "execution_count": 1,
   "metadata": {},
   "outputs": [],
   "source": [
    "from __future__ import absolute_import, division, print_function, unicode_literals\n",
    "\n",
    "\n",
    "import tensorflow as tf\n",
    "\n",
    "import pandas as pd"
   ]
  },
  {
   "cell_type": "code",
   "execution_count": 2,
   "metadata": {},
   "outputs": [],
   "source": [
    "COLUMN_NAMES = ['LoveW', 'HorrorW', 'Unclassified','Genres']\n",
    "GENRES = ['Romance', 'Horror', 'Others']"
   ]
  },
  {
   "cell_type": "code",
   "execution_count": 3,
   "metadata": {},
   "outputs": [],
   "source": [
    "#File needs to be loaded here\n",
    "training_file_name = 'book_training_data.csv'# file name needs to change\n",
    "testing_file_name = 'book_testing_data.csv' #Test data needs to be compiled and added\n",
    "#train_data = pandas.read_csv(training_file_name, names=names)\n",
    "#test_data = pandas.read_csv(testing_file_name, name=name)\n",
    "\n",
    "train = pd.read_csv(training_file_name, names=COLUMN_NAMES, header=0)\n",
    "test = pd.read_csv(testing_file_name, names=COLUMN_NAMES, header=0)"
   ]
  },
  {
   "cell_type": "code",
   "execution_count": 4,
   "metadata": {},
   "outputs": [
    {
     "data": {
      "text/html": [
       "<div>\n",
       "<style scoped>\n",
       "    .dataframe tbody tr th:only-of-type {\n",
       "        vertical-align: middle;\n",
       "    }\n",
       "\n",
       "    .dataframe tbody tr th {\n",
       "        vertical-align: top;\n",
       "    }\n",
       "\n",
       "    .dataframe thead th {\n",
       "        text-align: right;\n",
       "    }\n",
       "</style>\n",
       "<table border=\"1\" class=\"dataframe\">\n",
       "  <thead>\n",
       "    <tr style=\"text-align: right;\">\n",
       "      <th></th>\n",
       "      <th>LoveW</th>\n",
       "      <th>HorrorW</th>\n",
       "      <th>Unclassified</th>\n",
       "      <th>Genres</th>\n",
       "    </tr>\n",
       "  </thead>\n",
       "  <tbody>\n",
       "    <tr>\n",
       "      <th>0</th>\n",
       "      <td>458</td>\n",
       "      <td>45</td>\n",
       "      <td>57656</td>\n",
       "      <td>0</td>\n",
       "    </tr>\n",
       "    <tr>\n",
       "      <th>1</th>\n",
       "      <td>46</td>\n",
       "      <td>679</td>\n",
       "      <td>56657</td>\n",
       "      <td>1</td>\n",
       "    </tr>\n",
       "    <tr>\n",
       "      <th>2</th>\n",
       "      <td>678</td>\n",
       "      <td>76</td>\n",
       "      <td>56675</td>\n",
       "      <td>0</td>\n",
       "    </tr>\n",
       "    <tr>\n",
       "      <th>3</th>\n",
       "      <td>567</td>\n",
       "      <td>46</td>\n",
       "      <td>96000</td>\n",
       "      <td>0</td>\n",
       "    </tr>\n",
       "    <tr>\n",
       "      <th>4</th>\n",
       "      <td>105</td>\n",
       "      <td>98</td>\n",
       "      <td>89809</td>\n",
       "      <td>2</td>\n",
       "    </tr>\n",
       "  </tbody>\n",
       "</table>\n",
       "</div>"
      ],
      "text/plain": [
       "   LoveW  HorrorW  Unclassified  Genres\n",
       "0    458       45         57656       0\n",
       "1     46      679         56657       1\n",
       "2    678       76         56675       0\n",
       "3    567       46         96000       0\n",
       "4    105       98         89809       2"
      ]
     },
     "execution_count": 4,
     "metadata": {},
     "output_type": "execute_result"
    }
   ],
   "source": [
    "train.head() # Display our data"
   ]
  },
  {
   "cell_type": "code",
   "execution_count": 5,
   "metadata": {},
   "outputs": [
    {
     "data": {
      "text/html": [
       "<div>\n",
       "<style scoped>\n",
       "    .dataframe tbody tr th:only-of-type {\n",
       "        vertical-align: middle;\n",
       "    }\n",
       "\n",
       "    .dataframe tbody tr th {\n",
       "        vertical-align: top;\n",
       "    }\n",
       "\n",
       "    .dataframe thead th {\n",
       "        text-align: right;\n",
       "    }\n",
       "</style>\n",
       "<table border=\"1\" class=\"dataframe\">\n",
       "  <thead>\n",
       "    <tr style=\"text-align: right;\">\n",
       "      <th></th>\n",
       "      <th>LoveW</th>\n",
       "      <th>HorrorW</th>\n",
       "      <th>Unclassified</th>\n",
       "    </tr>\n",
       "  </thead>\n",
       "  <tbody>\n",
       "    <tr>\n",
       "      <th>0</th>\n",
       "      <td>458</td>\n",
       "      <td>45</td>\n",
       "      <td>57656</td>\n",
       "    </tr>\n",
       "    <tr>\n",
       "      <th>1</th>\n",
       "      <td>46</td>\n",
       "      <td>679</td>\n",
       "      <td>56657</td>\n",
       "    </tr>\n",
       "    <tr>\n",
       "      <th>2</th>\n",
       "      <td>678</td>\n",
       "      <td>76</td>\n",
       "      <td>56675</td>\n",
       "    </tr>\n",
       "    <tr>\n",
       "      <th>3</th>\n",
       "      <td>567</td>\n",
       "      <td>46</td>\n",
       "      <td>96000</td>\n",
       "    </tr>\n",
       "    <tr>\n",
       "      <th>4</th>\n",
       "      <td>105</td>\n",
       "      <td>98</td>\n",
       "      <td>89809</td>\n",
       "    </tr>\n",
       "  </tbody>\n",
       "</table>\n",
       "</div>"
      ],
      "text/plain": [
       "   LoveW  HorrorW  Unclassified\n",
       "0    458       45         57656\n",
       "1     46      679         56657\n",
       "2    678       76         56675\n",
       "3    567       46         96000\n",
       "4    105       98         89809"
      ]
     },
     "execution_count": 5,
     "metadata": {},
     "output_type": "execute_result"
    }
   ],
   "source": [
    "train_y = train.pop('Genres')\n",
    "test_y = test.pop('Genres')\n",
    "train.head() # Genres column is now gone"
   ]
  },
  {
   "cell_type": "code",
   "execution_count": 7,
   "metadata": {},
   "outputs": [
    {
     "data": {
      "text/plain": [
       "<matplotlib.axes._subplots.AxesSubplot at 0x13914fa10>"
      ]
     },
     "execution_count": 7,
     "metadata": {},
     "output_type": "execute_result"
    },
    {
     "data": {
      "image/png": "[encoded data removed]",
      "text/plain": [
       "<Figure size 432x288 with 1 Axes>"
      ]
     },
     "metadata": {
      "needs_background": "light"
     },
     "output_type": "display_data"
    }
   ],
   "source": [
    "train.LoveW.hist(bins=10)"
   ]
  },
  {
   "cell_type": "raw",
   "metadata": {},
   "source": []
  },
  {
   "cell_type": "code",
   "execution_count": 8,
   "metadata": {},
   "outputs": [
    {
     "data": {
      "text/plain": [
       "(14, 3)"
      ]
     },
     "execution_count": 8,
     "metadata": {},
     "output_type": "execute_result"
    }
   ],
   "source": [
    "train.shape # Display entries and features"
   ]
  },
  {
   "cell_type": "code",
   "execution_count": 9,
   "metadata": {},
   "outputs": [],
   "source": [
    "#input function\n",
    "def input_fn(features, labels, training=True, batch_size=256):\n",
    "\n",
    "    dataset = tf.data.Dataset.from_tensor_slices((dict(features), labels))\n",
    "\n",
    "    \n",
    "    if training:\n",
    "        dataset = dataset.shuffle(1000).repeat()\n",
    "    \n",
    "    return dataset.batch(batch_size)"
   ]
  },
  {
   "cell_type": "code",
   "execution_count": 10,
   "metadata": {},
   "outputs": [
    {
     "name": "stdout",
     "output_type": "stream",
     "text": [
      "[NumericColumn(key='LoveW', shape=(1,), default_value=None, dtype=tf.float32, normalizer_fn=None), NumericColumn(key='HorrorW', shape=(1,), default_value=None, dtype=tf.float32, normalizer_fn=None), NumericColumn(key='Unclassified', shape=(1,), default_value=None, dtype=tf.float32, normalizer_fn=None)]\n"
     ]
    }
   ],
   "source": [
    "# Feature columns\n",
    "feature_columns = []\n",
    "for key in train.keys():\n",
    "    feature_columns.append(tf.feature_column.numeric_column(key=key))\n",
    "print(feature_columns)"
   ]
  },
  {
   "cell_type": "code",
   "execution_count": 11,
   "metadata": {},
   "outputs": [
    {
     "name": "stdout",
     "output_type": "stream",
     "text": [
      "INFO:tensorflow:Using default config.\n",
      "WARNING:tensorflow:Using temporary folder as model directory: /var/folders/5g/4q_xrqj95ll6j4y7r1wb7wfc0000gn/T/tmpsnvpm1s1\n",
      "INFO:tensorflow:Using config: {'_model_dir': '/var/folders/5g/4q_xrqj95ll6j4y7r1wb7wfc0000gn/T/tmpsnvpm1s1', '_tf_random_seed': None, '_save_summary_steps': 100, '_save_checkpoints_steps': None, '_save_checkpoints_secs': 600, '_session_config': allow_soft_placement: true\n",
      "graph_options {\n",
      "  rewrite_options {\n",
      "    meta_optimizer_iterations: ONE\n",
      "  }\n",
      "}\n",
      ", '_keep_checkpoint_max': 5, '_keep_checkpoint_every_n_hours': 10000, '_log_step_count_steps': 100, '_train_distribute': None, '_device_fn': None, '_protocol': None, '_eval_distribute': None, '_experimental_distribute': None, '_experimental_max_worker_delay_secs': None, '_session_creation_timeout_secs': 7200, '_service': None, '_cluster_spec': ClusterSpec({}), '_task_type': 'worker', '_task_id': 0, '_global_id_in_cluster': 0, '_master': '', '_evaluation_master': '', '_is_chief': True, '_num_ps_replicas': 0, '_num_worker_replicas': 1}\n"
     ]
    }
   ],
   "source": [
    "#Use classifier model to train\n",
    "classifier = tf.estimator.DNNClassifier(\n",
    "    feature_columns=feature_columns,\n",
    "    # Two hidden layers of 30 and 10 nodes respectively.\n",
    "    hidden_units=[30, 10],\n",
    "    # The model must choose between 3 classes.\n",
    "    n_classes=3)"
   ]
  },
  {
   "cell_type": "code",
   "execution_count": 12,
   "metadata": {},
   "outputs": [
    {
     "name": "stdout",
     "output_type": "stream",
     "text": [
      "WARNING:tensorflow:From /usr/local/lib/python3.7/site-packages/tensorflow_core/python/ops/resource_variable_ops.py:1635: calling BaseResourceVariable.__init__ (from tensorflow.python.ops.resource_variable_ops) with constraint is deprecated and will be removed in a future version.\n",
      "Instructions for updating:\n",
      "If using Keras pass *_constraint arguments to layers.\n",
      "WARNING:tensorflow:From /usr/local/lib/python3.7/site-packages/tensorflow_core/python/training/training_util.py:236: Variable.initialized_value (from tensorflow.python.ops.variables) is deprecated and will be removed in a future version.\n",
      "Instructions for updating:\n",
      "Use Variable.read_value. Variables in 2.X are initialized automatically both in eager and graph (inside tf.defun) contexts.\n",
      "INFO:tensorflow:Calling model_fn.\n",
      "WARNING:tensorflow:From /usr/local/lib/python3.7/site-packages/tensorflow_core/python/keras/optimizer_v2/adagrad.py:103: calling Constant.__init__ (from tensorflow.python.ops.init_ops) with dtype is deprecated and will be removed in a future version.\n",
      "Instructions for updating:\n",
      "Call initializer instance with the dtype argument instead of passing it to the constructor\n",
      "INFO:tensorflow:Done calling model_fn.\n",
      "INFO:tensorflow:Create CheckpointSaverHook.\n",
      "INFO:tensorflow:Graph was finalized.\n",
      "INFO:tensorflow:Running local_init_op.\n",
      "INFO:tensorflow:Done running local_init_op.\n",
      "INFO:tensorflow:Saving checkpoints for 0 into /var/folders/5g/4q_xrqj95ll6j4y7r1wb7wfc0000gn/T/tmpsnvpm1s1/model.ckpt.\n",
      "INFO:tensorflow:loss = 5200.412, step = 0\n",
      "INFO:tensorflow:global_step/sec: 212.728\n",
      "INFO:tensorflow:loss = 1917.1914, step = 100 (0.471 sec)\n",
      "INFO:tensorflow:global_step/sec: 344.532\n",
      "INFO:tensorflow:loss = 725.7135, step = 200 (0.290 sec)\n",
      "INFO:tensorflow:global_step/sec: 351.777\n",
      "INFO:tensorflow:loss = 364.01352, step = 300 (0.285 sec)\n",
      "INFO:tensorflow:global_step/sec: 250.275\n",
      "INFO:tensorflow:loss = 62.303818, step = 400 (0.400 sec)\n",
      "INFO:tensorflow:global_step/sec: 375.598\n",
      "INFO:tensorflow:loss = 0.7750479, step = 500 (0.265 sec)\n",
      "INFO:tensorflow:global_step/sec: 381.727\n",
      "INFO:tensorflow:loss = 0.77337056, step = 600 (0.262 sec)\n",
      "INFO:tensorflow:global_step/sec: 494.719\n",
      "INFO:tensorflow:loss = 0.76418054, step = 700 (0.202 sec)\n",
      "INFO:tensorflow:global_step/sec: 501.865\n",
      "INFO:tensorflow:loss = 0.7673322, step = 800 (0.199 sec)\n",
      "INFO:tensorflow:global_step/sec: 263.719\n",
      "INFO:tensorflow:loss = 0.7661761, step = 900 (0.380 sec)\n",
      "INFO:tensorflow:global_step/sec: 293.545\n",
      "INFO:tensorflow:loss = 0.7604244, step = 1000 (0.339 sec)\n",
      "INFO:tensorflow:global_step/sec: 483.514\n",
      "INFO:tensorflow:loss = 0.76836574, step = 1100 (0.207 sec)\n",
      "INFO:tensorflow:global_step/sec: 509.121\n",
      "INFO:tensorflow:loss = 0.7664508, step = 1200 (0.196 sec)\n",
      "INFO:tensorflow:global_step/sec: 261.224\n",
      "INFO:tensorflow:loss = 0.7576735, step = 1300 (0.383 sec)\n",
      "INFO:tensorflow:global_step/sec: 502.23\n",
      "INFO:tensorflow:loss = 0.7567284, step = 1400 (0.199 sec)\n",
      "INFO:tensorflow:global_step/sec: 528.823\n",
      "INFO:tensorflow:loss = 0.76356894, step = 1500 (0.189 sec)\n",
      "INFO:tensorflow:global_step/sec: 489.12\n",
      "INFO:tensorflow:loss = 0.75461626, step = 1600 (0.205 sec)\n",
      "INFO:tensorflow:global_step/sec: 399.409\n",
      "INFO:tensorflow:loss = 0.75405824, step = 1700 (0.253 sec)\n",
      "INFO:tensorflow:global_step/sec: 240.326\n",
      "INFO:tensorflow:loss = 0.75723034, step = 1800 (0.415 sec)\n",
      "INFO:tensorflow:global_step/sec: 354.019\n",
      "INFO:tensorflow:loss = 0.7600993, step = 1900 (0.281 sec)\n",
      "INFO:tensorflow:global_step/sec: 403.141\n",
      "INFO:tensorflow:loss = 0.751279, step = 2000 (0.248 sec)\n",
      "INFO:tensorflow:global_step/sec: 485.696\n",
      "INFO:tensorflow:loss = 0.7551261, step = 2100 (0.206 sec)\n",
      "INFO:tensorflow:global_step/sec: 522.171\n",
      "INFO:tensorflow:loss = 0.7586692, step = 2200 (0.193 sec)\n",
      "INFO:tensorflow:global_step/sec: 472.613\n",
      "INFO:tensorflow:loss = 0.74897456, step = 2300 (0.210 sec)\n",
      "INFO:tensorflow:global_step/sec: 508.584\n",
      "INFO:tensorflow:loss = 0.74856067, step = 2400 (0.197 sec)\n",
      "INFO:tensorflow:global_step/sec: 528.782\n",
      "INFO:tensorflow:loss = 0.7518196, step = 2500 (0.189 sec)\n",
      "INFO:tensorflow:global_step/sec: 508.872\n",
      "INFO:tensorflow:loss = 0.7468083, step = 2600 (0.196 sec)\n",
      "INFO:tensorflow:global_step/sec: 530.555\n",
      "INFO:tensorflow:loss = 0.75867844, step = 2700 (0.188 sec)\n",
      "INFO:tensorflow:global_step/sec: 536.041\n",
      "INFO:tensorflow:loss = 0.7497254, step = 2800 (0.187 sec)\n",
      "INFO:tensorflow:global_step/sec: 521.442\n",
      "INFO:tensorflow:loss = 0.7487208, step = 2900 (0.192 sec)\n",
      "INFO:tensorflow:global_step/sec: 522.854\n",
      "INFO:tensorflow:loss = 0.75267875, step = 3000 (0.191 sec)\n",
      "INFO:tensorflow:global_step/sec: 510.147\n",
      "INFO:tensorflow:loss = 0.7480721, step = 3100 (0.196 sec)\n",
      "INFO:tensorflow:global_step/sec: 527.059\n",
      "INFO:tensorflow:loss = 0.7474326, step = 3200 (0.190 sec)\n",
      "INFO:tensorflow:global_step/sec: 520.687\n",
      "INFO:tensorflow:loss = 0.74218416, step = 3300 (0.192 sec)\n",
      "INFO:tensorflow:global_step/sec: 522.452\n",
      "INFO:tensorflow:loss = 0.74550545, step = 3400 (0.192 sec)\n",
      "INFO:tensorflow:global_step/sec: 509.588\n",
      "INFO:tensorflow:loss = 0.74950844, step = 3500 (0.196 sec)\n",
      "INFO:tensorflow:global_step/sec: 319.599\n",
      "INFO:tensorflow:loss = 0.7492442, step = 3600 (0.313 sec)\n",
      "INFO:tensorflow:global_step/sec: 481.684\n",
      "INFO:tensorflow:loss = 0.73583233, step = 3700 (0.208 sec)\n",
      "INFO:tensorflow:global_step/sec: 497.144\n",
      "INFO:tensorflow:loss = 0.7434464, step = 3800 (0.203 sec)\n",
      "INFO:tensorflow:global_step/sec: 504.758\n",
      "INFO:tensorflow:loss = 0.7467886, step = 3900 (0.196 sec)\n",
      "INFO:tensorflow:global_step/sec: 516.74\n",
      "INFO:tensorflow:loss = 0.7419487, step = 4000 (0.194 sec)\n",
      "INFO:tensorflow:global_step/sec: 503.056\n",
      "INFO:tensorflow:loss = 0.73320687, step = 4100 (0.199 sec)\n",
      "INFO:tensorflow:global_step/sec: 489.579\n",
      "INFO:tensorflow:loss = 0.7454358, step = 4200 (0.204 sec)\n",
      "INFO:tensorflow:global_step/sec: 525.022\n",
      "INFO:tensorflow:loss = 0.7328115, step = 4300 (0.190 sec)\n",
      "INFO:tensorflow:global_step/sec: 512.973\n",
      "INFO:tensorflow:loss = 0.73972994, step = 4400 (0.195 sec)\n",
      "INFO:tensorflow:global_step/sec: 380.805\n",
      "INFO:tensorflow:loss = 0.7395457, step = 4500 (0.262 sec)\n",
      "INFO:tensorflow:global_step/sec: 432.281\n",
      "INFO:tensorflow:loss = 0.74326706, step = 4600 (0.231 sec)\n",
      "INFO:tensorflow:global_step/sec: 483.356\n",
      "INFO:tensorflow:loss = 0.74274087, step = 4700 (0.208 sec)\n",
      "INFO:tensorflow:global_step/sec: 318.069\n",
      "INFO:tensorflow:loss = 0.73797303, step = 4800 (0.314 sec)\n",
      "INFO:tensorflow:global_step/sec: 452.194\n",
      "INFO:tensorflow:loss = 0.7420647, step = 4900 (0.222 sec)\n",
      "INFO:tensorflow:Saving checkpoints for 5000 into /var/folders/5g/4q_xrqj95ll6j4y7r1wb7wfc0000gn/T/tmpsnvpm1s1/model.ckpt.\n",
      "INFO:tensorflow:Loss for final step: 0.74156207.\n"
     ]
    },
    {
     "data": {
      "text/plain": [
       "<tensorflow_estimator.python.estimator.canned.dnn.DNNClassifierV2 at 0x139274810>"
      ]
     },
     "execution_count": 12,
     "metadata": {},
     "output_type": "execute_result"
    }
   ],
   "source": [
    "# We need to train our model and test from this point on.....\n",
    "classifier.train(\n",
    "    input_fn=lambda: input_fn(train, train_y, training=True),\n",
    "    steps=5000)"
   ]
  },
  {
   "cell_type": "code",
   "execution_count": 11,
   "metadata": {},
   "outputs": [
    {
     "name": "stdout",
     "output_type": "stream",
     "text": [
      "INFO:tensorflow:Calling model_fn.\n",
      "INFO:tensorflow:Done calling model_fn.\n",
      "INFO:tensorflow:Starting evaluation at 2020-03-06T14:48:10Z\n",
      "INFO:tensorflow:Graph was finalized.\n",
      "INFO:tensorflow:Restoring parameters from /var/folders/5g/4q_xrqj95ll6j4y7r1wb7wfc0000gn/T/tmp381vlzjt/model.ckpt-5000\n",
      "INFO:tensorflow:Running local_init_op.\n",
      "INFO:tensorflow:Done running local_init_op.\n",
      "INFO:tensorflow:Inference Time : 0.34658s\n",
      "INFO:tensorflow:Finished evaluation at 2020-03-06-14:48:10\n",
      "INFO:tensorflow:Saving dict for global step 5000: accuracy = 0.9166667, average_loss = 0.30740306, global_step = 5000, loss = 0.30740306\n",
      "INFO:tensorflow:Saving 'checkpoint_path' summary for global step 5000: /var/folders/5g/4q_xrqj95ll6j4y7r1wb7wfc0000gn/T/tmp381vlzjt/model.ckpt-5000\n",
      "\n",
      "Test set accuracy: 0.917\n",
      "\n"
     ]
    }
   ],
   "source": [
    "#Display our result\n",
    "eval_result = classifier.evaluate(\n",
    "    input_fn=lambda: input_fn(test, test_y, training=False))\n",
    "\n",
    "print('\\nTest set accuracy: {accuracy:0.3f}\\n'.format(**eval_result))"
   ]
  },
  {
   "cell_type": "code",
   "execution_count": null,
   "metadata": {},
   "outputs": [
    {
     "name": "stdout",
     "output_type": "stream",
     "text": [
      "['LoveW', 'HorrorW', 'Unclassified']\n",
      "Please type numeric values as prompted.\n"
     ]
    }
   ],
   "source": [
    "#make a prediction and display probability\n",
    "def input_fn(features, batch_size=256):\n",
    "    return tf.data.Dataset.from_tensor_slices(dict(features)).batch(batch_size)\n",
    "\n",
    "features = ['LoveW', 'HorrorW', 'Unclassified']\n",
    "predict = {}\n",
    "print(features)\n",
    "\n",
    "print(\"Please type numeric values as prompted.\")\n",
    "for feature in features:\n",
    "  valid = True\n",
    "  while valid: \n",
    "    val = input(feature + \": \")\n",
    "    if val.isdigit(): valid = False\n",
    "\n",
    "  predict[feature] = [float(val)]\n",
    "\n",
    "predictions = classifier.predict(input_fn=lambda: input_fn(predict))\n",
    "print(predictions)\n",
    "for pred_dict in predictions:\n",
    "    class_id = pred_dict['class_ids'][0]\n",
    "    probability = pred_dict['probabilities'][class_id]\n",
    "\n",
    "    print('Prediction is \"{}\" ({:.1f}%)'.format(\n",
    "        GENRES[class_id], 100 * probability))"
   ]
  },
  {
   "cell_type": "code",
   "execution_count": null,
   "metadata": {},
   "outputs": [],
   "source": []
  },
  {
   "cell_type": "code",
   "execution_count": null,
   "metadata": {},
   "outputs": [],
   "source": []
  }
 ],
 "metadata": {
  "kernelspec": {
   "display_name": "Python 3",
   "language": "python",
   "name": "python3"
  },
  "language_info": {
   "codemirror_mode": {
    "name": "ipython",
    "version": 3
   },
   "file_extension": ".py",
   "mimetype": "text/x-python",
   "name": "python",
   "nbconvert_exporter": "python",
   "pygments_lexer": "ipython3",
   "version": "3.7.6"
  }
 },
 "nbformat": 4,
 "nbformat_minor": 4
}
